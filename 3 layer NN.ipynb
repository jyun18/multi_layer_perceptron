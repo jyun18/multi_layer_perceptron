{
 "cells": [
  {
   "cell_type": "code",
   "execution_count": 132,
   "metadata": {},
   "outputs": [
    {
     "name": "stdout",
     "output_type": "stream",
     "text": [
      "initial hidden weights:  [[0.59892692 0.71636905]\n",
      " [0.06398912 0.8723326 ]]\n",
      "initial hidden biases:  [[0.3753651  0.92723161]]\n",
      "initial output weights:  [[0.87875615]\n",
      " [0.01143287]]\n",
      "initial output biases:  [[0.85784268]]\n"
     ]
    }
   ],
   "source": [
    "import numpy as np\n",
    "\n",
    "# initialize possible inputs, and the target outputs (for XOR)\n",
    "inputs = np.array([[0,0],[0,1],[1,0],[1,1]])\n",
    "target_output = np.array([[0],[1],[1],[0]])\n",
    "\n",
    "# initialize intial weights and biases randomly based on a uniform distribution\n",
    "hidden_weights = np.random.uniform(size=(2,2)) # four weights in all between input layer and hidden layer\n",
    "hidden_biases = np.random.uniform(size=(1,2)) # two biases for two hidden layer neurons\n",
    "output_weights = np.random.uniform(size=(2,1)) # two weights between hidden layer and output layer\n",
    "output_biases = np.random.uniform(size=(1,1)) # one bias for output layer neuron\n",
    "\n",
    "print(\"initial hidden weights: \", hidden_weights)\n",
    "print(\"initial hidden biases: \", hidden_biases)\n",
    "print(\"initial output weights: \", output_weights)\n",
    "print(\"initial output biases: \", output_biases)\n",
    "\n",
    "# number of gradient descent steps we take when training our model\n",
    "num_loops = 8000\n",
    "\n",
    "# learning rate\n",
    "learning_rate = 0.1"
   ]
  },
  {
   "cell_type": "code",
   "execution_count": 133,
   "metadata": {},
   "outputs": [],
   "source": [
    "# sigmoid function will be our activation function\n",
    "def sigmoid(x):\n",
    "    return 1/(1 + np.exp(-x))\n",
    "\n",
    "# we will need the derivative of the sigmoid function when performing backpropogation\n",
    "def sigmoid_derivative(x):\n",
    "    return x * (1 - x)"
   ]
  },
  {
   "cell_type": "code",
   "execution_count": 134,
   "metadata": {},
   "outputs": [
    {
     "name": "stdout",
     "output_type": "stream",
     "text": [
      "final hidden weights:  [[5.54726123 3.34528129]\n",
      " [5.76041676 3.3821809 ]]\n",
      "final hidden biases:  [[-1.16214292 -2.60025965]]\n",
      "final output weights:  [[ 6.10464521]\n",
      " [-6.69250212]]\n",
      "final output biases:  [[-2.72693845]]\n"
     ]
    }
   ],
   "source": [
    "# train our model\n",
    "for i in range(num_loops):\n",
    "    \n",
    "    # forward propogation\n",
    "    \n",
    "    # the output of the hidden layer is the sigmoid of the sum of the weighted inputs and the hidden biases\n",
    "    hidden_layer_activation = np.dot(inputs,hidden_weights) + hidden_biases\n",
    "    hidden_layer_activation += hidden_biases\n",
    "    hidden_layer_output = sigmoid(hidden_layer_activation) \n",
    "    \n",
    "    # the output of the output layer is the sigmoid of the sum of the weighted hidden layer outputs and the output biases\n",
    "    output_layer_activation = np.dot(hidden_layer_output,output_weights)\n",
    "    output_layer_activation += output_biases\n",
    "    predicted_output = sigmoid(output_layer_activation)\n",
    "    \n",
    "    # backpropagation\n",
    "    error = expected_output - predicted_output\n",
    "    d_predicted_output = error * sigmoid_derivative(predicted_output)\n",
    "    \n",
    "    error_hidden_layer = d_predicted_output.dot(output_weights.T)\n",
    "    d_hidden_layer = error_hidden_layer * sigmoid_derivative(hidden_layer_output)\n",
    "\n",
    "    # update weights and biases\n",
    "    output_weights += hidden_layer_output.T.dot(d_predicted_output) * learning_rate\n",
    "    output_biases += np.sum(d_predicted_output,axis=0,keepdims=True) * learning_rate\n",
    "    hidden_weights += inputs.T.dot(d_hidden_layer) * learning_rate\n",
    "    hidden_biases += np.sum(d_hidden_layer,axis=0,keepdims=True) * learning_rate\n",
    "\n",
    "\n",
    "print(\"final hidden weights: \", hidden_weights)\n",
    "print(\"final hidden biases: \", hidden_biases)\n",
    "print(\"final output weights: \", output_weights)\n",
    "print(\"final output biases: \", output_biases)"
   ]
  },
  {
   "cell_type": "code",
   "execution_count": 135,
   "metadata": {},
   "outputs": [
    {
     "name": "stdout",
     "output_type": "stream",
     "text": [
      "the predicted output of the XOR input after training is:  \n",
      " [[0]\n",
      " [1]\n",
      " [1]\n",
      " [0]]\n"
     ]
    }
   ],
   "source": [
    "predicted_output = np.where(predicted_output > 0.5, 1, 0)\n",
    "print(\"the predicted output of the XOR input after training is: \", \"\\n\", predicted_output)"
   ]
  }
 ],
 "metadata": {
  "kernelspec": {
   "display_name": "Python 3",
   "language": "python",
   "name": "python3"
  },
  "language_info": {
   "codemirror_mode": {
    "name": "ipython",
    "version": 3
   },
   "file_extension": ".py",
   "mimetype": "text/x-python",
   "name": "python",
   "nbconvert_exporter": "python",
   "pygments_lexer": "ipython3",
   "version": "3.8.3"
  }
 },
 "nbformat": 4,
 "nbformat_minor": 4
}
