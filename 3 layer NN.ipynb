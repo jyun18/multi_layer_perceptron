{
 "cells": [
  {
   "cell_type": "markdown",
   "metadata": {},
   "source": [
    "## Construction and Training of NN"
   ]
  },
  {
   "cell_type": "code",
   "execution_count": 74,
   "metadata": {},
   "outputs": [
    {
     "name": "stdout",
     "output_type": "stream",
     "text": [
      "initial hidden weights:  [[0.30281603 0.12358081]\n",
      " [0.5436969  0.16916807]]\n",
      "initial hidden biases:  [[0.26919766 0.81359229]]\n",
      "initial output weights:  [[0.05765286]\n",
      " [0.13046898]]\n",
      "initial output biases:  [[0.36121122]]\n"
     ]
    }
   ],
   "source": [
    "import numpy as np\n",
    "\n",
    "# initialize possible inputs, and the target outputs (for XOR)\n",
    "inputs = np.array([[0,0],[0,1],[1,0],[1,1]])\n",
    "target_output = np.array([[0],[1],[1],[0]])\n",
    "\n",
    "# initialize intial weights and biases randomly based on a uniform distribution\n",
    "hidden_weights = np.random.uniform(size=(2,2)) # four weights in all between input layer and hidden layer\n",
    "hidden_biases = np.random.uniform(size=(1,2)) # two biases for two hidden layer neurons\n",
    "output_weights = np.random.uniform(size=(2,1)) # two weights between hidden layer and output layer\n",
    "output_biases = np.random.uniform(size=(1,1)) # one bias for output layer neuron\n",
    "\n",
    "print(\"initial hidden weights: \", hidden_weights)\n",
    "print(\"initial hidden biases: \", hidden_biases)\n",
    "print(\"initial output weights: \", output_weights)\n",
    "print(\"initial output biases: \", output_biases)\n",
    "\n",
    "# number of gradient descent steps we take when training our model\n",
    "num_loops = 8000\n",
    "\n",
    "# learning rate\n",
    "learning_rate = 0.5\n",
    "\n",
    "# list of errors after each gradient descent step\n",
    "errors = []"
   ]
  },
  {
   "cell_type": "code",
   "execution_count": 75,
   "metadata": {},
   "outputs": [],
   "source": [
    "# sigmoid function will be our activation function\n",
    "def sigmoid(x):\n",
    "    return 1/(1 + np.exp(-x))\n",
    "\n",
    "# we will need the derivative of the sigmoid function when performing backpropogation\n",
    "def sigmoid_derivative(x):\n",
    "    return x * (1 - x)"
   ]
  },
  {
   "cell_type": "code",
   "execution_count": 76,
   "metadata": {},
   "outputs": [
    {
     "name": "stdout",
     "output_type": "stream",
     "text": [
      "final hidden weights:  [[6.46527326 4.85143631]\n",
      " [6.49209849 4.85946802]]\n",
      "final hidden biases:  [[-1.48388698 -3.76255319]]\n",
      "final output weights:  [[ 8.99845842]\n",
      " [-9.68871058]]\n",
      "final output biases:  [[-4.18828637]]\n"
     ]
    }
   ],
   "source": [
    "# train our model\n",
    "for i in range(num_loops):\n",
    "    \n",
    "    # forward propogation\n",
    "    \n",
    "    # the output of the hidden layer is the sigmoid of the sum of the weighted inputs and the hidden biases\n",
    "    hidden_layer_activation = np.dot(inputs,hidden_weights) + hidden_biases\n",
    "    hidden_layer_activation += hidden_biases\n",
    "    hidden_layer_output = sigmoid(hidden_layer_activation) \n",
    "    \n",
    "    # the output of the output layer is the sigmoid of the sum of the weighted hidden layer outputs and the output biases\n",
    "    output_layer_activation = np.dot(hidden_layer_output,output_weights)\n",
    "    output_layer_activation += output_biases\n",
    "    predicted_output = sigmoid(output_layer_activation)\n",
    "    \n",
    "    # backpropagation\n",
    "    error = target_output - predicted_output\n",
    "    errors.append(error)\n",
    "    \n",
    "    d_predicted_output = error * sigmoid_derivative(predicted_output)\n",
    "    \n",
    "    error_hidden_layer = d_predicted_output.dot(output_weights.T)\n",
    "    d_hidden_layer = error_hidden_layer * sigmoid_derivative(hidden_layer_output)\n",
    "\n",
    "    # update weights and biases\n",
    "    output_weights += hidden_layer_output.T.dot(d_predicted_output) * learning_rate\n",
    "    output_biases += np.sum(d_predicted_output,axis=0,keepdims=True) * learning_rate\n",
    "    hidden_weights += inputs.T.dot(d_hidden_layer) * learning_rate\n",
    "    hidden_biases += np.sum(d_hidden_layer,axis=0,keepdims=True) * learning_rate\n",
    "\n",
    "\n",
    "print(\"final hidden weights: \", hidden_weights)\n",
    "print(\"final hidden biases: \", hidden_biases)\n",
    "print(\"final output weights: \", output_weights)\n",
    "print(\"final output biases: \", output_biases)"
   ]
  },
  {
   "cell_type": "markdown",
   "metadata": {},
   "source": [
    "## Output"
   ]
  },
  {
   "cell_type": "code",
   "execution_count": 77,
   "metadata": {},
   "outputs": [
    {
     "name": "stdout",
     "output_type": "stream",
     "text": [
      "the predicted output of the XOR input after training is:  \n",
      " [[0]\n",
      " [1]\n",
      " [1]\n",
      " [0]]\n"
     ]
    }
   ],
   "source": [
    "predicted_output = np.where(predicted_output > 0.5, 1, 0)\n",
    "print(\"the predicted output of the XOR input after training is: \", \"\\n\", predicted_output)"
   ]
  },
  {
   "cell_type": "markdown",
   "metadata": {},
   "source": [
    "## Error Analysis"
   ]
  },
  {
   "cell_type": "code",
   "execution_count": 78,
   "metadata": {},
   "outputs": [
    {
     "data": {
      "text/html": [
       "<div>\n",
       "<style scoped>\n",
       "    .dataframe tbody tr th:only-of-type {\n",
       "        vertical-align: middle;\n",
       "    }\n",
       "\n",
       "    .dataframe tbody tr th {\n",
       "        vertical-align: top;\n",
       "    }\n",
       "\n",
       "    .dataframe thead th {\n",
       "        text-align: right;\n",
       "    }\n",
       "</style>\n",
       "<table border=\"1\" class=\"dataframe\">\n",
       "  <thead>\n",
       "    <tr style=\"text-align: right;\">\n",
       "      <th></th>\n",
       "      <th>Error</th>\n",
       "      <th>Number of Steps</th>\n",
       "    </tr>\n",
       "  </thead>\n",
       "  <tbody>\n",
       "    <tr>\n",
       "      <th>0</th>\n",
       "      <td>1.063033</td>\n",
       "      <td>1</td>\n",
       "    </tr>\n",
       "    <tr>\n",
       "      <th>1</th>\n",
       "      <td>1.035592</td>\n",
       "      <td>2</td>\n",
       "    </tr>\n",
       "    <tr>\n",
       "      <th>2</th>\n",
       "      <td>1.019491</td>\n",
       "      <td>3</td>\n",
       "    </tr>\n",
       "    <tr>\n",
       "      <th>3</th>\n",
       "      <td>1.010541</td>\n",
       "      <td>4</td>\n",
       "    </tr>\n",
       "    <tr>\n",
       "      <th>4</th>\n",
       "      <td>1.005724</td>\n",
       "      <td>5</td>\n",
       "    </tr>\n",
       "    <tr>\n",
       "      <th>...</th>\n",
       "      <td>...</td>\n",
       "      <td>...</td>\n",
       "    </tr>\n",
       "    <tr>\n",
       "      <th>7995</th>\n",
       "      <td>0.001674</td>\n",
       "      <td>7996</td>\n",
       "    </tr>\n",
       "    <tr>\n",
       "      <th>7996</th>\n",
       "      <td>0.001674</td>\n",
       "      <td>7997</td>\n",
       "    </tr>\n",
       "    <tr>\n",
       "      <th>7997</th>\n",
       "      <td>0.001674</td>\n",
       "      <td>7998</td>\n",
       "    </tr>\n",
       "    <tr>\n",
       "      <th>7998</th>\n",
       "      <td>0.001673</td>\n",
       "      <td>7999</td>\n",
       "    </tr>\n",
       "    <tr>\n",
       "      <th>7999</th>\n",
       "      <td>0.001673</td>\n",
       "      <td>8000</td>\n",
       "    </tr>\n",
       "  </tbody>\n",
       "</table>\n",
       "<p>8000 rows × 2 columns</p>\n",
       "</div>"
      ],
      "text/plain": [
       "         Error  Number of Steps\n",
       "0     1.063033                1\n",
       "1     1.035592                2\n",
       "2     1.019491                3\n",
       "3     1.010541                4\n",
       "4     1.005724                5\n",
       "...        ...              ...\n",
       "7995  0.001674             7996\n",
       "7996  0.001674             7997\n",
       "7997  0.001674             7998\n",
       "7998  0.001673             7999\n",
       "7999  0.001673             8000\n",
       "\n",
       "[8000 rows x 2 columns]"
      ]
     },
     "execution_count": 78,
     "metadata": {},
     "output_type": "execute_result"
    }
   ],
   "source": [
    "import pandas as pd\n",
    "\n",
    "sum_of_squared_errors = []\n",
    "\n",
    "for x in errors:\n",
    "    sse = 0\n",
    "    for y in x:\n",
    "         sse += y[0] ** 2\n",
    "    sum_of_squared_errors.append(sse)\n",
    "\n",
    "data = {'Error': sum_of_squared_errors, 'Number of Steps': [s for s in range(1, num_loops + 1)]} \n",
    "df = pd.DataFrame(data) \n",
    "\n",
    "df\n"
   ]
  },
  {
   "cell_type": "code",
   "execution_count": 79,
   "metadata": {},
   "outputs": [
    {
     "data": {
      "image/png": "[encoded data removed]",
      "text/plain": [
       "<Figure size 432x288 with 1 Axes>"
      ]
     },
     "metadata": {
      "needs_background": "light"
     },
     "output_type": "display_data"
    }
   ],
   "source": [
    "import matplotlib.pyplot as plt\n",
    "\n",
    "fig = plt.figure()\n",
    "plt.plot(df['Number of Steps'], df['Error'])\n",
    "plt.title(\"Error vs. Number of Steps\")\n",
    "plt.xlabel('Number of Steps')\n",
    "plt.ylabel('Error')\n",
    "plt.ylim(ymin=0)\n",
    "plt.show()\n"
   ]
  },
  {
   "cell_type": "code",
   "execution_count": null,
   "metadata": {},
   "outputs": [],
   "source": []
  }
 ],
 "metadata": {
  "kernelspec": {
   "display_name": "Python 3",
   "language": "python",
   "name": "python3"
  },
  "language_info": {
   "codemirror_mode": {
    "name": "ipython",
    "version": 3
   },
   "file_extension": ".py",
   "mimetype": "text/x-python",
   "name": "python",
   "nbconvert_exporter": "python",
   "pygments_lexer": "ipython3",
   "version": "3.8.3"
  }
 },
 "nbformat": 4,
 "nbformat_minor": 4
}
